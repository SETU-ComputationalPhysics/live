{
 "cells": [
  {
   "cell_type": "markdown",
   "metadata": {},
   "source": [
    "# Unhappy Couple Flight"
   ]
  },
  {
   "cell_type": "markdown",
   "metadata": {},
   "source": [
    "Source: https://artofproblemsolving.com/wiki/index.php/2024_AMC_8_Problems/Problem_25\n"
   ]
  },
  {
   "cell_type": "markdown",
   "metadata": {},
   "source": [
    "## Problem\n",
    "\n",
    "A small airplane has $4$ rows of seats with $3$ seats in each row. Seven passengers have boarded the plane and are distributed randomly among the seats. A married couple is next to board. \n",
    "\n",
    "**Q1:**\n",
    "What is the probability there will be 2 adjacent seats in the same row for the couple?\n",
    "\n",
    "**Q2:**\n",
    "Suppose the couple just had a fight and one particular partner (mention no names) does not want to sit beside the other (and be scolded for the entire flight, hypothetically speaking). So they (see! gender neutral pronouns are useful!) pay for a few friends (who will be allocated random seats) to also take the flight, in the hope that the couple will be forced to sit apart. <br />\n",
    "If they want this probability to be smaller than 25% (it was a bad fight) what is the fewest number of friends that will get a free flight? \n",
    "\n",
    "---"
   ]
  },
  {
   "cell_type": "markdown",
   "metadata": {},
   "source": [
    "## Solution"
   ]
  },
  {
   "cell_type": "markdown",
   "metadata": {},
   "source": [
    "### Setup"
   ]
  },
  {
   "cell_type": "code",
   "execution_count": 132,
   "metadata": {},
   "outputs": [],
   "source": [
    "import numpy as np\n",
    "rng = np.random.default_rng()"
   ]
  },
  {
   "cell_type": "markdown",
   "metadata": {},
   "source": [
    "### Development Notes\n",
    "\n",
    "* Step 1 - code snippets\n",
    "  * Could treat the seats as an array from 0 to 11, but will need to put them into rows to represent the plane. Will use `.reshape` for this. \n",
    "    * Only need to remember if a seat is occupied or not - so use a `bool` array. **Q:** Does it make a difference if we use `True` for occupied or `False` for occupied?  \n",
    "  * For any given row, the couple sit together if there are at least two seats free and the middle seat is free.\n",
    "    * This is same as saying that the couple cannot sit together if there at least two occupied seats or the middle seat is occupied. \n",
    "* Step 2 - Implement functions\n",
    "  * `simulate`, and `run_trials` as before.\n",
    "  * Could have separate versions of the functions for each question, or have one version (since Q1 is a special case of Q2 (num friends = 0)).\n",
    "* Step 3 - Validate functions\n",
    "  * Test for probability convergence.\n",
    "  * Does probability behave as expected for different numbers of friends? (increasing/decreasing as number of friends increases - think BEFORE running experiment so you are predicting and testing predictions.) \n"
   ]
  },
  {
   "cell_type": "code",
   "execution_count": 148,
   "metadata": {},
   "outputs": [
    {
     "data": {
      "text/plain": [
       "array([ True,  True,  True,  True,  True,  True,  True,  True,  True,\n",
       "        True,  True,  True])"
      ]
     },
     "execution_count": 148,
     "metadata": {},
     "output_type": "execute_result"
    }
   ],
   "source": [
    "# \"create\" seats - True is empty / False otherwise \n",
    "# Using True for free makes increasing plane size easier\n",
    "\n",
    "seats = np.ones(12, dtype=bool)\n",
    "seats"
   ]
  },
  {
   "cell_type": "code",
   "execution_count": 149,
   "metadata": {},
   "outputs": [
    {
     "data": {
      "text/plain": [
       "[4, 5, 6, 7, 8, 10, 11]"
      ]
     },
     "execution_count": 149,
     "metadata": {},
     "output_type": "execute_result"
    }
   ],
   "source": [
    "passengers = rng.choice(12, size=7, replace=False)\n",
    "sorted(passengers)"
   ]
  },
  {
   "cell_type": "code",
   "execution_count": 150,
   "metadata": {},
   "outputs": [
    {
     "data": {
      "text/plain": [
       "array([ True,  True,  True,  True, False, False, False, False, False,\n",
       "        True, False, False])"
      ]
     },
     "execution_count": 150,
     "metadata": {},
     "output_type": "execute_result"
    }
   ],
   "source": [
    "seats[passengers] = False\n",
    "seats"
   ]
  },
  {
   "cell_type": "code",
   "execution_count": 151,
   "metadata": {},
   "outputs": [
    {
     "data": {
      "text/plain": [
       "array([[ True,  True,  True],\n",
       "       [ True, False, False],\n",
       "       [False, False, False],\n",
       "       [ True, False, False]])"
      ]
     },
     "execution_count": 151,
     "metadata": {},
     "output_type": "execute_result"
    }
   ],
   "source": [
    "plane = seats.reshape((4,3))\n",
    "plane"
   ]
  },
  {
   "cell_type": "code",
   "execution_count": 152,
   "metadata": {},
   "outputs": [
    {
     "data": {
      "text/plain": [
       "array([3, 1, 0, 1])"
      ]
     },
     "execution_count": 152,
     "metadata": {},
     "output_type": "execute_result"
    }
   ],
   "source": [
    "# condition 1 - number of free seats in a row must be >=2\n",
    "plane.sum(axis=1)"
   ]
  },
  {
   "cell_type": "code",
   "execution_count": 153,
   "metadata": {},
   "outputs": [
    {
     "data": {
      "text/plain": [
       "array([ True, False, False, False])"
      ]
     },
     "execution_count": 153,
     "metadata": {},
     "output_type": "execute_result"
    }
   ],
   "source": [
    "plane.sum(axis=1)>=2"
   ]
  },
  {
   "cell_type": "code",
   "execution_count": 154,
   "metadata": {},
   "outputs": [
    {
     "data": {
      "text/plain": [
       "array([ True, False, False, False])"
      ]
     },
     "execution_count": 154,
     "metadata": {},
     "output_type": "execute_result"
    }
   ],
   "source": [
    "# condition 2 - middle seat must be empty\n",
    "plane[:,1]==True"
   ]
  },
  {
   "cell_type": "code",
   "execution_count": 155,
   "metadata": {},
   "outputs": [
    {
     "data": {
      "text/plain": [
       "array([ True, False, False, False])"
      ]
     },
     "execution_count": 155,
     "metadata": {},
     "output_type": "execute_result"
    }
   ],
   "source": [
    "# success = both condition as True\n",
    "success = (plane.sum(axis=1)>=2) & (plane[:,1]==True)\n",
    "success"
   ]
  },
  {
   "cell_type": "code",
   "execution_count": 156,
   "metadata": {},
   "outputs": [
    {
     "data": {
      "text/plain": [
       "True"
      ]
     },
     "execution_count": 156,
     "metadata": {},
     "output_type": "execute_result"
    }
   ],
   "source": [
    "# just want one row (to continue fight)\n",
    "success = any(success)\n",
    "success"
   ]
  },
  {
   "cell_type": "markdown",
   "metadata": {},
   "source": [
    "### Q1\n",
    "\n",
    " * Implement function `simulate` to simulate the seating of the passengers and the couple, returning success/failure.\n",
    " * Implement function `run_trials` to run the simulation multiple times and calculate the probability success.\n",
    " * Then build a table of computed probabilities for increasing number of trials to check for convergence."
   ]
  },
  {
   "cell_type": "code",
   "execution_count": 157,
   "metadata": {},
   "outputs": [
    {
     "name": "stdout",
     "output_type": "stream",
     "text": [
      "plane:\n",
      "\t [ True False False] False\n",
      "\t [False False  True] False\n",
      "\t [False  True False] False\n",
      "\t [False  True  True] True\n"
     ]
    },
    {
     "data": {
      "text/plain": [
       "True"
      ]
     },
     "execution_count": 157,
     "metadata": {},
     "output_type": "execute_result"
    }
   ],
   "source": [
    "def simulate(debug=False):\n",
    "    seats = np.ones(12, dtype=bool)\n",
    "    passengers = rng.choice(12, size=7, replace=False)\n",
    "    seats[passengers] = False\n",
    "    plane = seats.reshape((4,3))\n",
    "    success = (plane.sum(axis=1)>=2) & (plane[:,1]==True)\n",
    "\n",
    "    if debug:\n",
    "        print(\"plane:\")\n",
    "        for row,s in zip(plane,success):\n",
    "            print(\"\\t\", row,s)\n",
    "    return any(success)\n",
    "\n",
    "simulate(debug=True)\n"
   ]
  },
  {
   "cell_type": "code",
   "execution_count": 158,
   "metadata": {},
   "outputs": [
    {
     "name": "stdout",
     "output_type": "stream",
     "text": [
      "plane:\n",
      "\t [ True False False] False\n",
      "\t [ True  True False] True\n",
      "\t [False False False] False\n",
      "\t [False  True  True] True\n",
      "plane:\n",
      "\t [False  True  True] True\n",
      "\t [ True False False] False\n",
      "\t [False  True False] False\n",
      "\t [False  True False] False\n",
      "[True, True]\n"
     ]
    },
    {
     "data": {
      "text/plain": [
       "1.0"
      ]
     },
     "execution_count": 158,
     "metadata": {},
     "output_type": "execute_result"
    }
   ],
   "source": [
    "def run_trials(n, debug=False):\n",
    "    trials = [simulate(debug=debug) for _ in range(n)]\n",
    "    if debug:\n",
    "        print(trials)\n",
    "    return sum(trials) / n\n",
    "\n",
    "run_trials(2, debug=True)"
   ]
  },
  {
   "cell_type": "code",
   "execution_count": 159,
   "metadata": {},
   "outputs": [
    {
     "name": "stdout",
     "output_type": "stream",
     "text": [
      "         n | Pr(avoid fight)\n",
      "----------------------------\n",
      "        10 | 0.6\n",
      "       100 | 0.79\n",
      "     1,000 | 0.831\n",
      "    10,000 | 0.8137\n",
      "   100,000 | 0.81847\n"
     ]
    }
   ],
   "source": [
    "print(f\"{'n':>10s} | {'Pr(avoid fight)':8}\\n\" + \"-\"*28)\n",
    "for k in range(1,6):\n",
    "    print(f\"{10**k:10,} | {run_trials(10**k)}\")"
   ]
  },
  {
   "cell_type": "markdown",
   "metadata": {},
   "source": [
    "### Q2 \n",
    "\n",
    "This is an extension of **Q1** so reimplement the functions `simulate` and `run_trials` to include the number of friends."
   ]
  },
  {
   "cell_type": "code",
   "execution_count": 160,
   "metadata": {},
   "outputs": [
    {
     "name": "stdout",
     "output_type": "stream",
     "text": [
      "plane:\n",
      "\t [False False False] False\n",
      "\t [False  True False] False\n",
      "\t [False False  True] False\n",
      "\t [ True False False] False\n"
     ]
    },
    {
     "data": {
      "text/plain": [
       "False"
      ]
     },
     "execution_count": 160,
     "metadata": {},
     "output_type": "execute_result"
    }
   ],
   "source": [
    "def simulate(friends=0, debug=False):\n",
    "    assert friends >= 0 and friends <= 12-7-2, \"cannot have negative friends or over book the plane.\"\n",
    "    seats = np.ones(12, dtype=bool)\n",
    "    passengers = rng.choice(12, size=7+friends, replace=False)\n",
    "    seats[passengers] = False\n",
    "    plane = seats.reshape((4,3))\n",
    "    success = (plane.sum(axis=1)>=2) & (plane[:,1]==True)\n",
    "    \n",
    "    if debug:\n",
    "        print(\"plane:\")\n",
    "        for row,s in zip(plane,success):\n",
    "            print(\"\\t\", row,s)\n",
    "    return any(success)\n",
    "\n",
    "simulate(2, debug=True)"
   ]
  },
  {
   "cell_type": "code",
   "execution_count": 161,
   "metadata": {},
   "outputs": [
    {
     "name": "stdout",
     "output_type": "stream",
     "text": [
      "plane:\n",
      "\t [False False False] False\n",
      "\t [False False False] False\n",
      "\t [ True False False] False\n",
      "\t [ True False False] False\n",
      "plane:\n",
      "\t [False False False] False\n",
      "\t [ True False False] False\n",
      "\t [False False False] False\n",
      "\t [ True False False] False\n",
      "[False, False]\n"
     ]
    },
    {
     "data": {
      "text/plain": [
       "0.0"
      ]
     },
     "execution_count": 161,
     "metadata": {},
     "output_type": "execute_result"
    }
   ],
   "source": [
    "def run_trials(friends, n, debug=False):\n",
    "    trials = [simulate(friends, debug=debug) for _ in range(n)]\n",
    "    if debug:\n",
    "        print(trials)\n",
    "    return sum(trials) / n\n",
    "\n",
    "run_trials(3, 2, debug=True)"
   ]
  },
  {
   "cell_type": "code",
   "execution_count": 162,
   "metadata": {},
   "outputs": [
    {
     "name": "stdout",
     "output_type": "stream",
     "text": [
      "   friends | Pr(avoid fight)\n",
      "--------------------------\n",
      "         0 | 0.8119\n",
      "         1 | 0.608\n",
      "         2 | 0.3402\n",
      "         3 | 0.1244\n",
      "Minimum number of extra tickets for friends (so that prob of avoiding fight is <25%) is 3.\n"
     ]
    }
   ],
   "source": [
    "print(f\"{'friends':>10s} | {'Pr(avoid fight)':8}\\n\" + \"-\"*26)\n",
    "for friends in range(0,6):\n",
    "    n = 10**4 # enough trials to get a good estimate\n",
    "    pr = run_trials(friends, n)\n",
    "    print(f\"{friends:10} | {pr}\")\n",
    "    if pr<0.25: break\n",
    "\n",
    "print(f\"Minimum number of extra tickets for friends (so that prob of avoiding fight is <25%) is {friends}.\")"
   ]
  },
  {
   "cell_type": "code",
   "execution_count": null,
   "metadata": {},
   "outputs": [],
   "source": []
  }
 ],
 "metadata": {
  "kernelspec": {
   "display_name": "Python 3",
   "language": "python",
   "name": "python3"
  },
  "language_info": {
   "codemirror_mode": {
    "name": "ipython",
    "version": 3
   },
   "file_extension": ".py",
   "mimetype": "text/x-python",
   "name": "python",
   "nbconvert_exporter": "python",
   "pygments_lexer": "ipython3",
   "version": "3.11.7"
  }
 },
 "nbformat": 4,
 "nbformat_minor": 2
}
