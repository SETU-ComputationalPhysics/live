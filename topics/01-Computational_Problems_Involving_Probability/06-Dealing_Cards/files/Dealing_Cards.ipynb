{
 "cells": [
  {
   "cell_type": "markdown",
   "metadata": {},
   "source": [
    "# Dealing Cards"
   ]
  },
  {
   "cell_type": "markdown",
   "metadata": {},
   "source": [
    "Source\n",
    "https://artofproblemsolving.com/wiki/index.php/2023_AMC_8_Problems/Problem_21"
   ]
  },
  {
   "cell_type": "markdown",
   "metadata": {},
   "source": [
    "## Problem\n",
    "\n",
    "Alice writes the numbers $1, 2, \\dots , 3\\times N$ on separate cards, one number per card. She then wishes to divide the cards into $3$ groups of $N$ cards so that the sum of the numbers in each group will be the same. \n",
    "\n",
    "**Q1:**\n",
    "If $N=3$, and Alice allocates the cards into groups at random then what is the probability that the sum of numbers in each group will be the same?\n",
    "\n",
    "**Q2:**\n",
    "If $N=3$, and Alice allocates the cards into groups at random then what is the probability that at least one group has the correct total (i.e.,  one third of the sum of all of the numbers)?\n",
    "\n",
    "**Q3:**\n",
    "How does the probability that at least one group has the correct total change as $N$ increases?"
   ]
  },
  {
   "cell_type": "markdown",
   "metadata": {},
   "source": [
    "## Solution"
   ]
  },
  {
   "cell_type": "code",
   "execution_count": 121,
   "metadata": {},
   "outputs": [],
   "source": [
    "import numpy as np\n",
    "rng = np.random.default_rng()\n",
    "\n",
    "import matplotlib.pyplot as plt\n",
    " "
   ]
  },
  {
   "cell_type": "markdown",
   "metadata": {},
   "source": [
    "### Development\n",
    "\n",
    "* To randomly put cards into 3 groups, shuffle the array and `.reshape`.\n",
    "* Expect probability for Q1 to be much smaller than for Q2. Why?\n",
    "* Expect probability for Q3 to go to zero as $N$ increases. Why?"
   ]
  },
  {
   "cell_type": "code",
   "execution_count": 122,
   "metadata": {},
   "outputs": [
    {
     "data": {
      "text/plain": [
       "array([ 1,  2,  3,  4,  5,  6,  7,  8,  9, 10, 11, 12])"
      ]
     },
     "execution_count": 122,
     "metadata": {},
     "output_type": "execute_result"
    }
   ],
   "source": [
    "cards = np.arange(1, 13)\n",
    "cards"
   ]
  },
  {
   "cell_type": "code",
   "execution_count": 123,
   "metadata": {},
   "outputs": [
    {
     "data": {
      "text/plain": [
       "array([12,  3,  1, 11,  2,  9,  7,  6,  8, 10,  5,  4])"
      ]
     },
     "execution_count": 123,
     "metadata": {},
     "output_type": "execute_result"
    }
   ],
   "source": [
    "rng.shuffle(cards)\n",
    "cards"
   ]
  },
  {
   "cell_type": "code",
   "execution_count": 124,
   "metadata": {},
   "outputs": [
    {
     "data": {
      "text/plain": [
       "array([[12,  3,  1, 11],\n",
       "       [ 2,  9,  7,  6],\n",
       "       [ 8, 10,  5,  4]])"
      ]
     },
     "execution_count": 124,
     "metadata": {},
     "output_type": "execute_result"
    }
   ],
   "source": [
    "groups = cards.reshape(3,-1)\n",
    "groups"
   ]
  },
  {
   "cell_type": "code",
   "execution_count": 125,
   "metadata": {},
   "outputs": [
    {
     "data": {
      "text/plain": [
       "array([27, 24, 27])"
      ]
     },
     "execution_count": 125,
     "metadata": {},
     "output_type": "execute_result"
    }
   ],
   "source": [
    "totals = groups.sum(axis=1)\n",
    "totals"
   ]
  },
  {
   "cell_type": "code",
   "execution_count": 126,
   "metadata": {},
   "outputs": [
    {
     "data": {
      "text/plain": [
       "26"
      ]
     },
     "execution_count": 126,
     "metadata": {},
     "output_type": "execute_result"
    }
   ],
   "source": [
    "target = groups.sum() // 3\n",
    "target"
   ]
  },
  {
   "cell_type": "code",
   "execution_count": 74,
   "metadata": {},
   "outputs": [
    {
     "data": {
      "text/plain": [
       "array([False, False, False])"
      ]
     },
     "execution_count": 74,
     "metadata": {},
     "output_type": "execute_result"
    }
   ],
   "source": [
    "matches = totals==target\n",
    "matches"
   ]
  },
  {
   "cell_type": "code",
   "execution_count": 75,
   "metadata": {},
   "outputs": [
    {
     "data": {
      "text/plain": [
       "False"
      ]
     },
     "execution_count": 75,
     "metadata": {},
     "output_type": "execute_result"
    }
   ],
   "source": [
    "all(matches)"
   ]
  },
  {
   "cell_type": "markdown",
   "metadata": {},
   "source": [
    "### Q1"
   ]
  },
  {
   "cell_type": "code",
   "execution_count": 97,
   "metadata": {},
   "outputs": [
    {
     "name": "stdout",
     "output_type": "stream",
     "text": [
      "groups:\n",
      "\t [ 1 12  5 11] 29 False\n",
      "\t [ 2  4 10  3] 19 False\n",
      "\t [6 9 8 7] 30 False\n"
     ]
    },
    {
     "data": {
      "text/plain": [
       "False"
      ]
     },
     "execution_count": 97,
     "metadata": {},
     "output_type": "execute_result"
    }
   ],
   "source": [
    "def simulate(debug=False):\n",
    "    rng.shuffle(cards)\n",
    "    groups = cards.reshape(3,-1)\n",
    "    totals = groups.sum(axis=1)\n",
    "    target = groups.sum() // 3\n",
    "    matches = totals==target\n",
    "\n",
    "    if debug:\n",
    "        print(\"groups:\")\n",
    "        for group,total,match in zip(groups, totals, matches):\n",
    "            print(\"\\t\",group, total,match)\n",
    "\n",
    "    return all(matches)\n",
    "\n",
    "simulate(debug=True)"
   ]
  },
  {
   "cell_type": "code",
   "execution_count": 98,
   "metadata": {},
   "outputs": [
    {
     "name": "stdout",
     "output_type": "stream",
     "text": [
      "groups:\n",
      "\t [1 7 2 6] 16 False\n",
      "\t [10  3  9 12] 34 False\n",
      "\t [ 4  5 11  8] 28 False\n",
      "groups:\n",
      "\t [11  7 12  2] 32 False\n",
      "\t [ 8  1 10  4] 23 False\n",
      "\t [3 5 6 9] 23 False\n",
      "[False, False]\n"
     ]
    },
    {
     "data": {
      "text/plain": [
       "0.0"
      ]
     },
     "execution_count": 98,
     "metadata": {},
     "output_type": "execute_result"
    }
   ],
   "source": [
    "def run_trials(n, debug=False):\n",
    "    trials = [simulate(debug=debug) for i in range(n)]\n",
    "    if debug:\n",
    "        print(trials)\n",
    "    return sum(trials) / n\n",
    "\n",
    "run_trials(2, debug=True)"
   ]
  },
  {
   "cell_type": "code",
   "execution_count": 99,
   "metadata": {},
   "outputs": [
    {
     "name": "stdout",
     "output_type": "stream",
     "text": [
      "         n Pr()    \n",
      "--------------------\n",
      "        10 0.0\n",
      "       100 0.01\n",
      "     1,000 0.002\n",
      "    10,000 0.0044\n",
      "   100,000 0.00562\n",
      " 1,000,000 0.00542\n"
     ]
    }
   ],
   "source": [
    "print(f\"{'n':>10s} {'Pr()':8}\\n\" + \"-\"*20)\n",
    "for k in range(1,7):\n",
    "    print(f\"{10**k:10,} {run_trials(10**k)}\")"
   ]
  },
  {
   "cell_type": "markdown",
   "metadata": {},
   "source": [
    "### Q2"
   ]
  },
  {
   "cell_type": "code",
   "execution_count": 100,
   "metadata": {},
   "outputs": [
    {
     "name": "stdout",
     "output_type": "stream",
     "text": [
      "groups:\n",
      "\t [12  8 10  5] 35 False\n",
      "\t [ 7 11  4  2] 24 False\n",
      "\t [6 1 9 3] 19 False\n"
     ]
    },
    {
     "data": {
      "text/plain": [
       "False"
      ]
     },
     "execution_count": 100,
     "metadata": {},
     "output_type": "execute_result"
    }
   ],
   "source": [
    "def simulate(debug=False):\n",
    "    rng.shuffle(cards)\n",
    "    groups = cards.reshape(3,-1)\n",
    "    totals = groups.sum(axis=1)\n",
    "    target = groups.sum() // 3\n",
    "    matches = totals==target\n",
    "\n",
    "    if debug:\n",
    "        print(\"groups:\")\n",
    "        for group,total,match in zip(groups, totals, matches):\n",
    "            print(\"\\t\",group, total,match)\n",
    "\n",
    "    return any(matches)\n",
    "\n",
    "simulate(debug=True)"
   ]
  },
  {
   "cell_type": "code",
   "execution_count": 101,
   "metadata": {},
   "outputs": [
    {
     "data": {
      "text/plain": [
       "0.5"
      ]
     },
     "execution_count": 101,
     "metadata": {},
     "output_type": "execute_result"
    }
   ],
   "source": [
    "def run_trials(n, debug=False):\n",
    "    trials = [simulate(debug=debug) for i in range(n)]\n",
    "    if debug:\n",
    "        print(trials)\n",
    "    return sum(trials) / n\n",
    "\n",
    "run_trials(2, debug=0)"
   ]
  },
  {
   "cell_type": "code",
   "execution_count": 102,
   "metadata": {},
   "outputs": [
    {
     "name": "stdout",
     "output_type": "stream",
     "text": [
      "         n Pr()    \n",
      "--------------------\n",
      "        10 0.2\n",
      "       100 0.2\n",
      "     1,000 0.171\n",
      "    10,000 0.1814\n",
      "   100,000 0.18724\n",
      " 1,000,000 0.189134\n"
     ]
    }
   ],
   "source": [
    "print(f\"{'n':>10s} {'Pr()':8}\\n\" + \"-\"*20)\n",
    "for k in range(1,7):\n",
    "    print(f\"{10**k:10,} {run_trials(10**k)}\")"
   ]
  },
  {
   "cell_type": "markdown",
   "metadata": {},
   "source": [
    "### Q3"
   ]
  },
  {
   "cell_type": "code",
   "execution_count": 104,
   "metadata": {},
   "outputs": [
    {
     "name": "stdout",
     "output_type": "stream",
     "text": [
      "groups:\n",
      "\t [ 9 11  7  5] 32 False\n",
      "\t [8 6 2 1] 17 False\n",
      "\t [ 4 12 10  3] 29 False\n"
     ]
    },
    {
     "data": {
      "text/plain": [
       "False"
      ]
     },
     "execution_count": 104,
     "metadata": {},
     "output_type": "execute_result"
    }
   ],
   "source": [
    "def simulate(cards, debug=False):\n",
    "    rng.shuffle(cards)\n",
    "    groups = cards.reshape(3,-1)\n",
    "\n",
    "    totals = groups.sum(axis=1)  \n",
    "    target = groups.sum() // 3\n",
    "    matches = totals==target\n",
    "\n",
    "    if debug:\n",
    "        print(\"groups:\")\n",
    "        for group,total,match in zip(groups, totals, matches):\n",
    "            print(\"\\t\",group, total,match)\n",
    "\n",
    "    return any(matches)\n",
    "\n",
    "simulate(np.array([1,2,3,4,5,6,7,8,9,10,11,12]), debug=True)"
   ]
  },
  {
   "cell_type": "code",
   "execution_count": 106,
   "metadata": {},
   "outputs": [
    {
     "name": "stdout",
     "output_type": "stream",
     "text": [
      "cards:\n",
      "\t[1 2 3 4 5 6]\n",
      "groups:\n",
      "\t [3 5] 8 False\n",
      "\t [4 1] 5 False\n",
      "\t [2 6] 8 False\n",
      "groups:\n",
      "\t [5 6] 11 False\n",
      "\t [3 4] 7 True\n",
      "\t [1 2] 3 False\n",
      "groups:\n",
      "\t [3 6] 9 False\n",
      "\t [2 5] 7 True\n",
      "\t [4 1] 5 False\n"
     ]
    },
    {
     "data": {
      "text/plain": [
       "0.0"
      ]
     },
     "execution_count": 106,
     "metadata": {},
     "output_type": "execute_result"
    }
   ],
   "source": [
    "def run_trials(N, n=10**5, debug=False):\n",
    "    cards = np.arange(1, 3*N+1)\n",
    "    if debug:\n",
    "        print(f\"cards:\\n\\t{cards}\")\n",
    "    return sum([simulate(cards, debug=debug) for i in range(n)]) / n\n",
    "\n",
    "run_trials(2, n=3, debug=True)"
   ]
  },
  {
   "cell_type": "code",
   "execution_count": 112,
   "metadata": {},
   "outputs": [
    {
     "data": {
      "text/plain": [
       "0.0"
      ]
     },
     "execution_count": 112,
     "metadata": {},
     "output_type": "execute_result"
    }
   ],
   "source": [
    "# special case \n",
    "# we know if N=1, then the probability is 0\n",
    "run_trials(N=1)"
   ]
  },
  {
   "cell_type": "code",
   "execution_count": 118,
   "metadata": {},
   "outputs": [],
   "source": [
    "N_values = np.arange(2,10)\n",
    "\n",
    "pr_values = [run_trials(N,n=10**6) for N in N_values]\n"
   ]
  },
  {
   "cell_type": "code",
   "execution_count": 128,
   "metadata": {},
   "outputs": [
    {
     "data": {
      "image/png": "[encoded data removed]",
      "text/plain": [
       "<Figure size 640x480 with 1 Axes>"
      ]
     },
     "metadata": {},
     "output_type": "display_data"
    }
   ],
   "source": [
    "plt.plot(N_values, pr_values, 'o-', label='simulation')\n",
    "plt.legend()\n",
    "plt.xlabel('N')\n",
    "plt.ylabel('Pr(at least one match)')\n",
    "plt.show()"
   ]
  },
  {
   "cell_type": "code",
   "execution_count": 129,
   "metadata": {},
   "outputs": [
    {
     "data": {
      "text/plain": [
       "[0.066673,\n",
       " 0.007253,\n",
       " 0.005515,\n",
       " 0.002415,\n",
       " 0.001504,\n",
       " 0.001031,\n",
       " 0.000602,\n",
       " 0.000489]"
      ]
     },
     "execution_count": 129,
     "metadata": {},
     "output_type": "execute_result"
    }
   ],
   "source": [
    "pr_values"
   ]
  },
  {
   "cell_type": "code",
   "execution_count": null,
   "metadata": {},
   "outputs": [],
   "source": []
  }
 ],
 "metadata": {
  "kernelspec": {
   "display_name": "Python 3",
   "language": "python",
   "name": "python3"
  },
  "language_info": {
   "codemirror_mode": {
    "name": "ipython",
    "version": 3
   },
   "file_extension": ".py",
   "mimetype": "text/x-python",
   "name": "python",
   "nbconvert_exporter": "python",
   "pygments_lexer": "ipython3",
   "version": "3.11.7"
  }
 },
 "nbformat": 4,
 "nbformat_minor": 2
}
