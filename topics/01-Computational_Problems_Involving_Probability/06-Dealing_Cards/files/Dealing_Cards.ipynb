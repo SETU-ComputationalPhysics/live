{
 "cells": [
  {
   "cell_type": "markdown",
   "metadata": {},
   "source": [
    "# Dealing Cards"
   ]
  },
  {
   "cell_type": "markdown",
   "metadata": {},
   "source": [
    "## Problem\n",
    "\n",
    "Alice writes the numbers $1, 2, \\dots , 3\\times n$ on separate cards, one number per card. She then wishes to divide the cards into $3$ groups of $n$ cards so that the sum of the numbers in each group will be the same. \n",
    "\n",
    "**Q1:**\n",
    "If $n=3$, and Alice allocates the cards into groups at random then what is the probability that the sum of numbers in each group will be the same?\n",
    "\n",
    "**Q2:**\n",
    "If $n=3$, and Alice allocates the cards into groups at random then what is the probability that at least one group has the correct total (i.e.,  one third of the sum of all of the numbers)?\n",
    "\n",
    "**Q3:**\n",
    "How does the probability that at least one group has the correct total change as $n$ increases?"
   ]
  },
  {
   "cell_type": "markdown",
   "metadata": {},
   "source": [
    "## Solution"
   ]
  },
  {
   "cell_type": "markdown",
   "metadata": {},
   "source": [
    "### Setup"
   ]
  },
  {
   "cell_type": "code",
   "execution_count": null,
   "metadata": {},
   "outputs": [],
   "source": []
  },
  {
   "cell_type": "markdown",
   "metadata": {},
   "source": [
    "### Development Notes\n",
    "\n",
    "* To randomly put cards into 3 groups, shuffle the array and `.reshape`.\n",
    "* Expect probability for Q1 to be much smaller than for Q2. Why?\n",
    "* Expect probability for Q3 to go to zero as $N$ increases. Why?"
   ]
  },
  {
   "cell_type": "markdown",
   "metadata": {},
   "source": [
    "### Q1"
   ]
  },
  {
   "cell_type": "code",
   "execution_count": null,
   "metadata": {},
   "outputs": [],
   "source": []
  },
  {
   "cell_type": "markdown",
   "metadata": {},
   "source": [
    "### Q2"
   ]
  },
  {
   "cell_type": "code",
   "execution_count": null,
   "metadata": {},
   "outputs": [],
   "source": []
  },
  {
   "cell_type": "markdown",
   "metadata": {},
   "source": [
    "### Q3"
   ]
  },
  {
   "cell_type": "code",
   "execution_count": null,
   "metadata": {},
   "outputs": [],
   "source": []
  }
 ],
 "metadata": {
  "kernelspec": {
   "display_name": "Python 3",
   "language": "python",
   "name": "python3"
  },
  "language_info": {
   "codemirror_mode": {
    "name": "ipython",
    "version": 3
   },
   "file_extension": ".py",
   "mimetype": "text/x-python",
   "name": "python",
   "nbconvert_exporter": "python",
   "pygments_lexer": "ipython3",
   "version": "3.11.7"
  }
 },
 "nbformat": 4,
 "nbformat_minor": 2
}
