{
 "cells": [
  {
   "cell_type": "markdown",
   "metadata": {},
   "source": [
    "# Balls into Bins"
   ]
  },
  {
   "cell_type": "markdown",
   "metadata": {},
   "source": [
    "# source problem 19 of https://artofproblemsolving.com/wiki/index.php/2023_AMC_12B_Problems"
   ]
  },
  {
   "cell_type": "markdown",
   "metadata": {},
   "source": [
    "## Problem\n",
    "\n",
    "You have 2024 identical balls which you want to store in $N$ bins. If the balls are placed randomly into the bins, then:\n",
    "\n",
    "**Q1:** For $N=3$ what is the probability that all bins have an even number of balls?\n",
    "\n",
    "**Q2:** For $N=3$ what is the probability that at least one bin has an even number of balls?\n",
    "\n",
    "**Q3:** For general $N$ how does the probability that all bins have an even number of balls change?\n",
    "\n",
    "**Q4:** For general $N$ how does the probability that at least one bin have an even number of balls change?\n",
    "\n",
    "\n",
    "Tweak:\n",
    "\n",
    "At first you were careful and were placing balls into bin one at a time ensuring equal number of balls in each bin. But when all bins had 10 ball, you got bored and started filling the bins randomly with the remaining balls. How does this affect the each of the above questions?"
   ]
  },
  {
   "cell_type": "markdown",
   "metadata": {},
   "source": [
    "## Solution"
   ]
  },
  {
   "cell_type": "code",
   "execution_count": 1,
   "metadata": {},
   "outputs": [],
   "source": [
    "import numpy as np\n",
    "rng = np.random.default_rng()\n",
    "\n",
    "import matplotlib.pyplot as plt"
   ]
  },
  {
   "cell_type": "markdown",
   "metadata": {},
   "source": [
    "### Development\n",
    "\n",
    "* Need to simulate the placement of balls. Two approaches:\n",
    "  * \"place\" each ball and then count the number of balls in each bin.\n",
    "  * skip the placement of balls and just generate the number of balls in each bin. NEED to make sure that sum of numbers is 2024 (**integer partitioning**).\n",
    "    * harder (especially as $N$ increases) (but faster?)"
   ]
  },
  {
   "cell_type": "code",
   "execution_count": 42,
   "metadata": {},
   "outputs": [
    {
     "name": "stdout",
     "output_type": "stream",
     "text": [
      "[64 71 55 65 53 66 64 64 78 72 56 53 57 80 62 92 71 73 77 93 71 58 58 62\n",
      " 77 68 56 65 68 75]\n"
     ]
    },
    {
     "data": {
      "text/plain": [
       "True"
      ]
     },
     "execution_count": 42,
     "metadata": {},
     "output_type": "execute_result"
    }
   ],
   "source": [
    "N = 30\n",
    "\n",
    "placement = rng.choice(range(N), size=2024, replace=True)\n",
    "unique_values, counts = np.unique(placement, return_counts=True)\n",
    "print(counts)\n",
    "any(counts%2==0)"
   ]
  },
  {
   "cell_type": "markdown",
   "metadata": {},
   "source": [
    "## Q1"
   ]
  },
  {
   "cell_type": "code",
   "execution_count": 105,
   "metadata": {},
   "outputs": [
    {
     "name": "stdout",
     "output_type": "stream",
     "text": [
      "allocation=array([46, 54,  7, ..., 21,  4, 70])\n",
      "unique_values=array([ 0,  1,  2,  3,  4,  5,  6,  7,  8,  9, 10, 11, 12, 13, 14, 15, 16,\n",
      "       17, 18, 19, 20, 21, 22, 23, 24, 25, 26, 27, 28, 29, 30, 31, 32, 33,\n",
      "       34, 35, 36, 37, 38, 39, 40, 41, 42, 43, 44, 45, 46, 47, 48, 49, 50,\n",
      "       51, 52, 53, 54, 55, 56, 57, 58, 59, 60, 61, 62, 63, 64, 65, 66, 67,\n",
      "       68, 69, 70, 71, 72, 73, 74, 75, 76, 77, 78, 79, 80, 81, 82, 83, 84,\n",
      "       85, 86, 87, 88, 89, 90, 91, 92, 93, 94, 95, 96, 97, 98, 99]) counts=array([19, 14, 11, 21, 16, 16, 16, 29, 21, 17, 16, 22, 17, 13, 19, 16, 21,\n",
      "       16, 28, 18, 21, 16, 26, 24, 14, 22, 20, 22, 18, 19, 27, 25,  6, 22,\n",
      "       20, 15, 21, 25, 21, 25, 22, 18, 24, 25, 32, 18, 21, 23, 21, 18, 18,\n",
      "       26, 15, 21, 16, 14, 23, 26, 20, 19, 17, 23, 20, 29, 16, 17, 19, 27,\n",
      "       18, 16, 19, 19, 19, 22, 22, 24, 26, 24, 23, 25, 24, 18, 18, 18, 30,\n",
      "       19, 21, 13, 21, 20, 17, 11, 18, 23, 26, 26, 22, 22, 20, 17])\n",
      "ball_counts=array([19, 14, 11, 21, 16, 16, 16, 29, 21, 17, 16, 22, 17, 13, 19, 16, 21,\n",
      "       16, 28, 18, 21, 16, 26, 24, 14, 22, 20, 22, 18, 19, 27, 25,  6, 22,\n",
      "       20, 15, 21, 25, 21, 25, 22, 18, 24, 25, 32, 18, 21, 23, 21, 18, 18,\n",
      "       26, 15, 21, 16, 14, 23, 26, 20, 19, 17, 23, 20, 29, 16, 17, 19, 27,\n",
      "       18, 16, 19, 19, 19, 22, 22, 24, 26, 24, 23, 25, 24, 18, 18, 18, 30,\n",
      "       19, 21, 13, 21, 20, 17, 11, 18, 23, 26, 26, 22, 22, 20, 17])\n"
     ]
    },
    {
     "data": {
      "text/plain": [
       "array([19, 14, 11, 21, 16, 16, 16, 29, 21, 17, 16, 22, 17, 13, 19, 16, 21,\n",
       "       16, 28, 18, 21, 16, 26, 24, 14, 22, 20, 22, 18, 19, 27, 25,  6, 22,\n",
       "       20, 15, 21, 25, 21, 25, 22, 18, 24, 25, 32, 18, 21, 23, 21, 18, 18,\n",
       "       26, 15, 21, 16, 14, 23, 26, 20, 19, 17, 23, 20, 29, 16, 17, 19, 27,\n",
       "       18, 16, 19, 19, 19, 22, 22, 24, 26, 24, 23, 25, 24, 18, 18, 18, 30,\n",
       "       19, 21, 13, 21, 20, 17, 11, 18, 23, 26, 26, 22, 22, 20, 17])"
      ]
     },
     "execution_count": 105,
     "metadata": {},
     "output_type": "execute_result"
    }
   ],
   "source": [
    "def allocate_balls(M=2024, N=3, min_value=0, debug=False):\n",
    "    assert min_value*N<=M, f\"Minimum allocation of balls ({min_value*N}) cannot exceed number of available balls ({M}).\"\n",
    "\n",
    "    allocation = rng.choice(range(N), size=M-min_value*N, replace=True)\n",
    "    if debug:\n",
    "        print(f\"{allocation=}\")\n",
    "\n",
    "    unique_values, counts = np.unique(allocation, return_counts=True)\n",
    "    if debug: \n",
    "        print(f\"{unique_values=} {counts=}\")\n",
    "\n",
    "    ball_counts = np.ones(shape=(N),dtype=int)*min_value\n",
    "    for k, c in zip(unique_values, counts): ball_counts[k] += c\n",
    "\n",
    "    assert ball_counts.sum()==M, f\"Final number of balls allocated ({ball_counts.sum()}) should equal initial number of balls ({M}).\"\n",
    "\n",
    "    if debug:\n",
    "        print(f\"{ball_counts=}\")\n",
    "\n",
    "    return ball_counts\n",
    "\n",
    "allocate_balls(2024,100,0,1)"
   ]
  },
  {
   "cell_type": "code",
   "execution_count": 109,
   "metadata": {},
   "outputs": [],
   "source": [
    "def run_trial(M=2024, N=3, min_value=0):\n",
    "    is_even = allocate_balls(M,N,min_value) % 2==0\n",
    "\n",
    "    return all(is_even)\n",
    "    "
   ]
  },
  {
   "cell_type": "code",
   "execution_count": 110,
   "metadata": {},
   "outputs": [],
   "source": [
    "def run_trials(M=2024, N=3, min_value=0, n_trials=10):\n",
    "    return sum([run_trial(M, N, min_value) for _ in range(n_trials)]) / n_trials"
   ]
  },
  {
   "cell_type": "code",
   "execution_count": 116,
   "metadata": {},
   "outputs": [
    {
     "data": {
      "text/plain": [
       "0.0"
      ]
     },
     "execution_count": 116,
     "metadata": {},
     "output_type": "execute_result"
    }
   ],
   "source": [
    "run_trials(33,3,10,10_000)"
   ]
  },
  {
   "cell_type": "code",
   "execution_count": null,
   "metadata": {},
   "outputs": [],
   "source": []
  }
 ],
 "metadata": {
  "kernelspec": {
   "display_name": "Python 3",
   "language": "python",
   "name": "python3"
  },
  "language_info": {
   "codemirror_mode": {
    "name": "ipython",
    "version": 3
   },
   "file_extension": ".py",
   "mimetype": "text/x-python",
   "name": "python",
   "nbconvert_exporter": "python",
   "pygments_lexer": "ipython3",
   "version": "3.11.7"
  }
 },
 "nbformat": 4,
 "nbformat_minor": 2
}
