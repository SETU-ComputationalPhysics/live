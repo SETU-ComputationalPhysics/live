{
 "cells": [
  {
   "cell_type": "markdown",
   "metadata": {},
   "source": [
    "# Balls into Bins"
   ]
  },
  {
   "cell_type": "markdown",
   "metadata": {},
   "source": [
    "## Problem\n",
    "\n",
    "You have 2024 identical balls which you want to store in $N$ bins. If the balls are placed randomly into the bins, then:\n",
    "\n",
    "**Q1:** For $N=3$ what is the probability that all bins have an even number of balls?\n",
    "\n",
    "**Q2:** For $N=3$ what is the probability that at least one bin has an even number of balls?\n",
    "\n",
    "**Q3:** For general $N$ how does the probability that all bins have an even number of balls change?\n",
    "\n",
    "**Q4:** For general $N$ how does the probability that at least one bin have an even number of balls change?\n",
    "\n",
    "\n",
    "Tweak:\n",
    "\n",
    "At first you were careful and were placing balls into bin one at a time ensuring equal number of balls in each bin. But when all bins had 10 ball, you got bored and started filling the bins randomly with the remaining balls. How does this affect the each of the above questions?\n",
    "\n",
    "Repeat **Q3** and **Q4**, as **Q5** and **Q6**, showing the effect this has on the probability. "
   ]
  },
  {
   "cell_type": "markdown",
   "metadata": {},
   "source": [
    "## Solution"
   ]
  },
  {
   "cell_type": "markdown",
   "metadata": {},
   "source": [
    "### Setup"
   ]
  },
  {
   "cell_type": "code",
   "execution_count": null,
   "metadata": {},
   "outputs": [],
   "source": []
  },
  {
   "cell_type": "markdown",
   "metadata": {},
   "source": [
    "### Development Notes\n",
    "\n",
    "* Need to simulate the placement of balls. Two approaches:\n",
    "  * \"place\" each ball and then count the number of balls in each bin.\n",
    "  * skip the placement of balls and just generate the number of balls in each bin. NEED to make sure that sum of numbers is 2024 (**integer partitioning**).\n",
    "    * harder (especially as $N$ increases) (but faster?)"
   ]
  },
  {
   "cell_type": "code",
   "execution_count": null,
   "metadata": {},
   "outputs": [],
   "source": []
  },
  {
   "cell_type": "markdown",
   "metadata": {},
   "source": [
    "## Q1"
   ]
  },
  {
   "cell_type": "code",
   "execution_count": null,
   "metadata": {},
   "outputs": [],
   "source": []
  }
 ],
 "metadata": {
  "kernelspec": {
   "display_name": "Python 3",
   "language": "python",
   "name": "python3"
  },
  "language_info": {
   "codemirror_mode": {
    "name": "ipython",
    "version": 3
   },
   "file_extension": ".py",
   "mimetype": "text/x-python",
   "name": "python",
   "nbconvert_exporter": "python",
   "pygments_lexer": "ipython3",
   "version": "3.11.7"
  }
 },
 "nbformat": 4,
 "nbformat_minor": 2
}
