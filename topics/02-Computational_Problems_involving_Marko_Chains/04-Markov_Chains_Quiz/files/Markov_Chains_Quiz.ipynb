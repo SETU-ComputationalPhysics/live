{
 "cells": [
  {
   "cell_type": "markdown",
   "id": "be97504f-4763-430b-9058-9c8621e86c89",
   "metadata": {},
   "source": [
    "# Practical Quiz &mdash; Markov Chain Models "
   ]
  },
  {
   "cell_type": "markdown",
   "id": "6c327292-3658-455b-adf7-ff8ca8a4256f",
   "metadata": {},
   "source": [
    "--- \n",
    "## Setup\n"
   ]
  },
  {
   "cell_type": "code",
   "execution_count": 1,
   "id": "d5ed33d9-902d-4a8e-b5cf-7561592b3709",
   "metadata": {},
   "outputs": [],
   "source": [
    "import numpy as np\n",
    "import matplotlib.pyplot as plt\n",
    "import seaborn as sns\n",
    "sns.set_style(\"darkgrid\")\n",
    "\n",
    "from numpy.linalg import matrix_power\n",
    "\n",
    "from numpy.random import default_rng\n",
    "rng = default_rng(2055)\n",
    "\n",
    "def pprint(data):\n",
    "    print(getattr(data, \"tolist\", lambda: data)())"
   ]
  },
  {
   "cell_type": "markdown",
   "id": "5a408c5e-f5ee-44ab-9022-7a19a6dad3f4",
   "metadata": {},
   "source": [
    "---\n",
    "## Question 1 - Coin Matching Game\n",
    "\n",
    "Two players, A and B, play the game of matching coins: at each round, each player takes one of their  coin(s) and must secretly turn the coin to heads or tails. The players then reveal their choices simultaneously. If the coins match (both heads or both tails), Player A wins the coin. If the coins do not match (one heads and one tails), Player B wins the coin. \n",
    "\n",
    "Suppose the players have between them a total of 5 coins. The game ends when one player has all the coins.\n",
    "\n",
    "**a)** If Player A starts with 3 coins and Player B with 2, what is the probability that A will lose their coins first?\n",
    "\n",
    "**b)** Construct a graph showing the relationship between expected length of game and the total nubmber of coins, $n$, assuming that Player A start with half (round down if n is odd) of the coins."
   ]
  },
  {
   "cell_type": "code",
   "execution_count": null,
   "id": "7fbd81e7-5884-4b7b-908b-467ab1e18ca1",
   "metadata": {},
   "outputs": [],
   "source": []
  },
  {
   "cell_type": "markdown",
   "id": "613ddbef-41cd-4eb5-8019-3175377348b8",
   "metadata": {},
   "source": [
    "---\n",
    "## Question 2 - My Umbrella Academy\n",
    "\n",
    "I have 5 umbrellas, some at home and some in my office on campus. I keep moving between home and college. I take an umbrella with me only if it rains. If it does not rain I leave the umbrella behind (at home or in the oﬃce). It may happen that all umbrellas are in one place, I am at the other, it starts raining and must leave, so I get wet.\n",
    "\n",
    "**a)** \n",
    "If the probability of rain is $p=0.6$, what is the probability that I get wet?\n",
    "\n",
    "**b)**\n",
    "Consider the case of having only one unbrella, draw a graph to show the impact of the probability of rain, $p$.\n",
    "\n",
    "**c)** \n",
    "Current estimates show that $p=0.3$ in Waterford. How many umbrellas should I have so that, if I follow the strategy above, the probability I get wet is less than 2%?"
   ]
  },
  {
   "cell_type": "code",
   "execution_count": null,
   "id": "fa8afc51-f99c-4dac-a77c-072b0bdf60f4",
   "metadata": {},
   "outputs": [],
   "source": []
  }
 ],
 "metadata": {
  "kernelspec": {
   "display_name": "Python 3 (ipykernel)",
   "language": "python",
   "name": "python3"
  },
  "language_info": {
   "codemirror_mode": {
    "name": "ipython",
    "version": 3
   },
   "file_extension": ".py",
   "mimetype": "text/x-python",
   "name": "python",
   "nbconvert_exporter": "python",
   "pygments_lexer": "ipython3",
   "version": "3.13.1"
  }
 },
 "nbformat": 4,
 "nbformat_minor": 5
}
